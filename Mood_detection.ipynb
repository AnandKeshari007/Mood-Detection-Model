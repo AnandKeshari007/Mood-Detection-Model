{
 "cells": [
  {
   "cell_type": "markdown",
   "metadata": {},
   "source": [
    "# MOOD DETECTION MODEL"
   ]
  },
  {
   "cell_type": "code",
   "execution_count": 1,
   "metadata": {},
   "outputs": [],
   "source": [
    "import tensorflow as tf\n",
    "from tensorflow import keras\n",
    "from keras.preprocessing.image import ImageDataGenerator\n",
    "import numpy as np\n",
    "import matplotlib.pyplot as plt\n",
    "from keras.layers import Conv2D, Dense, Dropout, Flatten, MaxPooling2D, BatchNormalization,Activation\n",
    "from keras import Sequential\n",
    "from keras import optimizers\n",
    "from keras.optimizers import Adam\n",
    "import PIL\n",
    "from PIL import Image\n",
    "from matplotlib import image\n",
    "import matplotlib.pyplot as plt\n",
    "import cv2"
   ]
  },
  {
   "cell_type": "code",
   "execution_count": 2,
   "metadata": {},
   "outputs": [],
   "source": [
    "train_data_dir = \"dataset//training_set//\"\n",
    "test_data_dir = \"dataset//test_set//\"\n",
    "epochs = 30\n",
    "batch_size = 128\n",
    "image_height, image_width = 48,48\n"
   ]
  },
  {
   "cell_type": "code",
   "execution_count": 3,
   "metadata": {},
   "outputs": [
    {
     "data": {
      "text/plain": [
       "'channels_last'"
      ]
     },
     "execution_count": 3,
     "metadata": {},
     "output_type": "execute_result"
    }
   ],
   "source": [
    "import keras.backend as k\n",
    "k.image_data_format()"
   ]
  },
  {
   "cell_type": "code",
   "execution_count": 4,
   "metadata": {},
   "outputs": [],
   "source": [
    "input_shape=(image_width,image_height,3)"
   ]
  },
  {
   "cell_type": "code",
   "execution_count": 5,
   "metadata": {},
   "outputs": [],
   "source": [
    "train_data = ImageDataGenerator()\n",
    "test_data = ImageDataGenerator()"
   ]
  },
  {
   "cell_type": "code",
   "execution_count": 6,
   "metadata": {},
   "outputs": [
    {
     "name": "stdout",
     "output_type": "stream",
     "text": [
      "Found 18006 images belonging to 6 classes.\n",
      "Found 6006 images belonging to 6 classes.\n"
     ]
    }
   ],
   "source": [
    "train_images = train_data.flow_from_directory(train_data_dir,\n",
    "                                              target_size = (image_width,image_height),\n",
    "                                              color_mode='grayscale',\n",
    "                                              batch_size=batch_size,\n",
    "                                              class_mode='categorical', \n",
    "                                              shuffle=True)\n",
    "test_images = test_data.flow_from_directory(test_data_dir,\n",
    "                                            target_size = (image_width,image_height),\n",
    "                                            color_mode='grayscale',\n",
    "                                            batch_size=batch_size,\n",
    "                                            class_mode='categorical',\n",
    "                                            shuffle=False)\n",
    "y_true_labels = train_images.classes"
   ]
  },
  {
   "cell_type": "code",
   "execution_count": 7,
   "metadata": {},
   "outputs": [
    {
     "data": {
      "text/plain": [
       "numpy.ndarray"
      ]
     },
     "execution_count": 7,
     "metadata": {},
     "output_type": "execute_result"
    }
   ],
   "source": [
    "type(y_true_labels)"
   ]
  },
  {
   "cell_type": "code",
   "execution_count": null,
   "metadata": {},
   "outputs": [],
   "source": [
    "plt.figure(figsize=(12,12))\n",
    "for i in range(0,15):\n",
    "    plt.subplot(5,3,i+1)\n",
    "    for X_batch, Y_batch in train_images:\n",
    "        Imaa = X_batch[0]\n",
    "        plt.imshow(Imaa)\n",
    "        break\n",
    "plt.tight_layout()\n",
    "plt.show()"
   ]
  },
  {
   "cell_type": "code",
   "execution_count": 9,
   "metadata": {},
   "outputs": [
    {
     "name": "stdout",
     "output_type": "stream",
     "text": [
      "Model: \"sequential\"\n",
      "_________________________________________________________________\n",
      "Layer (type)                 Output Shape              Param #   \n",
      "=================================================================\n",
      "conv2d (Conv2D)              (None, 48, 48, 64)        640       \n",
      "_________________________________________________________________\n",
      "batch_normalization (BatchNo (None, 48, 48, 64)        256       \n",
      "_________________________________________________________________\n",
      "activation (Activation)      (None, 48, 48, 64)        0         \n",
      "_________________________________________________________________\n",
      "max_pooling2d (MaxPooling2D) (None, 24, 24, 64)        0         \n",
      "_________________________________________________________________\n",
      "dropout (Dropout)            (None, 24, 24, 64)        0         \n",
      "_________________________________________________________________\n",
      "conv2d_1 (Conv2D)            (None, 24, 24, 128)       204928    \n",
      "_________________________________________________________________\n",
      "batch_normalization_1 (Batch (None, 24, 24, 128)       512       \n",
      "_________________________________________________________________\n",
      "activation_1 (Activation)    (None, 24, 24, 128)       0         \n",
      "_________________________________________________________________\n",
      "max_pooling2d_1 (MaxPooling2 (None, 12, 12, 128)       0         \n",
      "_________________________________________________________________\n",
      "dropout_1 (Dropout)          (None, 12, 12, 128)       0         \n",
      "_________________________________________________________________\n",
      "conv2d_2 (Conv2D)            (None, 12, 12, 512)       590336    \n",
      "_________________________________________________________________\n",
      "batch_normalization_2 (Batch (None, 12, 12, 512)       2048      \n",
      "_________________________________________________________________\n",
      "activation_2 (Activation)    (None, 12, 12, 512)       0         \n",
      "_________________________________________________________________\n",
      "max_pooling2d_2 (MaxPooling2 (None, 6, 6, 512)         0         \n",
      "_________________________________________________________________\n",
      "dropout_2 (Dropout)          (None, 6, 6, 512)         0         \n",
      "_________________________________________________________________\n",
      "conv2d_3 (Conv2D)            (None, 6, 6, 512)         2359808   \n",
      "_________________________________________________________________\n",
      "batch_normalization_3 (Batch (None, 6, 6, 512)         2048      \n",
      "_________________________________________________________________\n",
      "activation_3 (Activation)    (None, 6, 6, 512)         0         \n",
      "_________________________________________________________________\n",
      "max_pooling2d_3 (MaxPooling2 (None, 3, 3, 512)         0         \n",
      "_________________________________________________________________\n",
      "dropout_3 (Dropout)          (None, 3, 3, 512)         0         \n",
      "_________________________________________________________________\n",
      "flatten (Flatten)            (None, 4608)              0         \n",
      "_________________________________________________________________\n",
      "dense (Dense)                (None, 256)               1179904   \n",
      "_________________________________________________________________\n",
      "batch_normalization_4 (Batch (None, 256)               1024      \n",
      "_________________________________________________________________\n",
      "activation_4 (Activation)    (None, 256)               0         \n",
      "_________________________________________________________________\n",
      "dropout_4 (Dropout)          (None, 256)               0         \n",
      "_________________________________________________________________\n",
      "dense_1 (Dense)              (None, 512)               131584    \n",
      "_________________________________________________________________\n",
      "batch_normalization_5 (Batch (None, 512)               2048      \n",
      "_________________________________________________________________\n",
      "activation_5 (Activation)    (None, 512)               0         \n",
      "_________________________________________________________________\n",
      "dropout_5 (Dropout)          (None, 512)               0         \n",
      "_________________________________________________________________\n",
      "dense_2 (Dense)              (None, 6)                 3078      \n",
      "=================================================================\n",
      "Total params: 4,478,214\n",
      "Trainable params: 4,474,246\n",
      "Non-trainable params: 3,968\n",
      "_________________________________________________________________\n"
     ]
    }
   ],
   "source": [
    "no_of_classes = 6\n",
    "model = Sequential()\n",
    "#1st CNN Layer\n",
    "model.add(Conv2D(64,(3,3),padding='same',input_shape=(48,48,1)))\n",
    "model.add(BatchNormalization())\n",
    "model.add(Activation('relu'))\n",
    "model.add(MaxPooling2D(pool_size=(2,2)))\n",
    "model.add(Dropout(0.25))\n",
    "\n",
    "#2nd CNN Layer\n",
    "model.add(Conv2D(128,(5,5),padding='same'))\n",
    "model.add(BatchNormalization())\n",
    "model.add(Activation('relu'))\n",
    "model.add(MaxPooling2D(pool_size=(2,2)))\n",
    "model.add(Dropout(0.25))\n",
    "          \n",
    "#3rd CNN Layer\n",
    "model.add(Conv2D(512,(3,3),padding='same'))\n",
    "model.add(BatchNormalization())\n",
    "model.add(Activation('relu'))\n",
    "model.add(MaxPooling2D(pool_size=(2,2)))\n",
    "model.add(Dropout(0.25))\n",
    "          \n",
    "#4th CNN Layer\n",
    "model.add(Conv2D(512,(3,3),padding='same'))\n",
    "model.add(BatchNormalization())\n",
    "model.add(Activation('relu'))\n",
    "model.add(MaxPooling2D(pool_size=(2,2)))\n",
    "model.add(Dropout(0.25))\n",
    "\n",
    "model.add(Flatten())\n",
    "          \n",
    "#Fully Connected 1st Layer\n",
    "model.add(Dense(256))\n",
    "model.add(BatchNormalization())\n",
    "model.add(Activation('relu'))\n",
    "model.add(Dropout(0.25))\n",
    "    \n",
    "#Fully Connected 2nd Layer\n",
    "model.add(Dense(512))\n",
    "model.add(BatchNormalization())\n",
    "model.add(Activation('relu'))\n",
    "model.add(Dropout(0.25))\n",
    "          \n",
    "model.add(Dense(no_of_classes,activation='softmax'))\n",
    "          \n",
    "opt = Adam(lr=0.0001)\n",
    "model.compile(optimizer=opt,loss='categorical_crossentropy', metrics=['accuracy'])\n",
    "model.summary()"
   ]
  },
  {
   "cell_type": "code",
   "execution_count": 10,
   "metadata": {},
   "outputs": [],
   "source": [
    "from keras.callbacks import ModelCheckpoint, EarlyStopping, ReduceLROnPlateau\n",
    "\n",
    "checkpoint = ModelCheckpoint(\"Model.h5\",monitor='val_acc', verbose=1,save_best_only=True,mode='max')\n",
    "\n",
    "early_stopping = EarlyStopping(monitor = 'val_loss',\n",
    "                            min_delta=0,\n",
    "                            patience=3,\n",
    "                            verbose=1,\n",
    "                            restore_best_weights=True\n",
    "                            )\n",
    "\n",
    "reduce_learningrate = ReduceLROnPlateau(monitor='value_loss',\n",
    "                                       factor=0.2,\n",
    "                                       patience=3,\n",
    "                                       verbose=1,\n",
    "                                       min_delta=0.0001)\n",
    "\n",
    "callback_list = [early_stopping,checkpoint,reduce_learningrate]\n",
    "\n",
    "epochs=48"
   ]
  },
  {
   "cell_type": "code",
   "execution_count": 11,
   "metadata": {},
   "outputs": [
    {
     "name": "stdout",
     "output_type": "stream",
     "text": [
      "WARNING:tensorflow:From <ipython-input-11-06c877b40e64>:1: Model.fit_generator (from tensorflow.python.keras.engine.training) is deprecated and will be removed in a future version.\n",
      "Instructions for updating:\n",
      "Please use Model.fit, which supports generators.\n",
      "Epoch 1/48\n",
      "140/140 [==============================] - 973s 7s/step - loss: 2.0273 - accuracy: 0.2132 - val_loss: 1.7763 - val_accuracy: 0.2315\n",
      "Epoch 2/48\n",
      "140/140 [==============================] - 686s 5s/step - loss: 1.8744 - accuracy: 0.2484 - val_loss: 1.6826 - val_accuracy: 0.2974\n",
      "Epoch 3/48\n",
      "140/140 [==============================] - 668s 5s/step - loss: 1.7900 - accuracy: 0.2796 - val_loss: 1.6589 - val_accuracy: 0.3032\n",
      "Epoch 4/48\n",
      "140/140 [==============================] - 669s 5s/step - loss: 1.7090 - accuracy: 0.3135 - val_loss: 1.6735 - val_accuracy: 0.3188\n",
      "Epoch 5/48\n",
      "140/140 [==============================] - 674s 5s/step - loss: 1.6714 - accuracy: 0.3368 - val_loss: 1.6360 - val_accuracy: 0.3381\n",
      "Epoch 6/48\n",
      "140/140 [==============================] - 968s 7s/step - loss: 1.6095 - accuracy: 0.3578 - val_loss: 1.6486 - val_accuracy: 0.3398\n",
      "Epoch 7/48\n",
      "140/140 [==============================] - 669s 5s/step - loss: 1.5764 - accuracy: 0.3725 - val_loss: 1.6615 - val_accuracy: 0.3322\n",
      "Epoch 8/48\n",
      "140/140 [==============================] - 665s 5s/step - loss: 1.5324 - accuracy: 0.3872 - val_loss: 1.5031 - val_accuracy: 0.3911\n",
      "Epoch 9/48\n",
      "140/140 [==============================] - 674s 5s/step - loss: 1.4983 - accuracy: 0.3991 - val_loss: 1.4707 - val_accuracy: 0.4052\n",
      "Epoch 10/48\n",
      "140/140 [==============================] - 678s 5s/step - loss: 1.4597 - accuracy: 0.4211 - val_loss: 1.4267 - val_accuracy: 0.4288\n",
      "Epoch 11/48\n",
      "140/140 [==============================] - 679s 5s/step - loss: 1.4199 - accuracy: 0.4372 - val_loss: 1.4337 - val_accuracy: 0.4258\n",
      "Epoch 12/48\n",
      "140/140 [==============================] - 681s 5s/step - loss: 1.3990 - accuracy: 0.4503 - val_loss: 1.3910 - val_accuracy: 0.4436\n",
      "Epoch 13/48\n",
      "140/140 [==============================] - 680s 5s/step - loss: 1.3643 - accuracy: 0.4622 - val_loss: 1.3924 - val_accuracy: 0.4521\n",
      "Epoch 14/48\n",
      "140/140 [==============================] - 686s 5s/step - loss: 1.3438 - accuracy: 0.4724 - val_loss: 1.3593 - val_accuracy: 0.4637\n",
      "Epoch 15/48\n",
      "140/140 [==============================] - 683s 5s/step - loss: 1.3130 - accuracy: 0.4829 - val_loss: 1.3679 - val_accuracy: 0.4677\n",
      "Epoch 16/48\n",
      "140/140 [==============================] - 688s 5s/step - loss: 1.2862 - accuracy: 0.4966 - val_loss: 1.3243 - val_accuracy: 0.4766\n",
      "Epoch 17/48\n",
      "140/140 [==============================] - 690s 5s/step - loss: 1.2713 - accuracy: 0.5018 - val_loss: 1.3139 - val_accuracy: 0.4786\n",
      "Epoch 18/48\n",
      "140/140 [==============================] - 689s 5s/step - loss: 1.2489 - accuracy: 0.5128 - val_loss: 1.3528 - val_accuracy: 0.4660\n",
      "Epoch 19/48\n",
      "140/140 [==============================] - 686s 5s/step - loss: 1.2312 - accuracy: 0.5195 - val_loss: 1.2725 - val_accuracy: 0.4944\n",
      "Epoch 20/48\n",
      "140/140 [==============================] - 1523s 11s/step - loss: 1.2154 - accuracy: 0.5255 - val_loss: 1.2921 - val_accuracy: 0.4878\n",
      "Epoch 21/48\n",
      "140/140 [==============================] - 3809s 27s/step - loss: 1.1988 - accuracy: 0.5354 - val_loss: 1.2675 - val_accuracy: 0.5071\n",
      "Epoch 22/48\n",
      "140/140 [==============================] - 691s 5s/step - loss: 1.1843 - accuracy: 0.5384 - val_loss: 1.2865 - val_accuracy: 0.5007\n",
      "Epoch 23/48\n",
      "140/140 [==============================] - 671s 5s/step - loss: 1.1665 - accuracy: 0.5437 - val_loss: 1.2260 - val_accuracy: 0.5173\n",
      "Epoch 24/48\n",
      "140/140 [==============================] - 670s 5s/step - loss: 1.1414 - accuracy: 0.5552 - val_loss: 1.2501 - val_accuracy: 0.5100\n",
      "Epoch 25/48\n",
      "140/140 [==============================] - 687s 5s/step - loss: 1.1236 - accuracy: 0.5643 - val_loss: 1.2308 - val_accuracy: 0.5199\n",
      "Epoch 26/48\n",
      "140/140 [==============================] - 735s 5s/step - loss: 1.1126 - accuracy: 0.5688 - val_loss: 1.2062 - val_accuracy: 0.5312\n",
      "Epoch 27/48\n",
      "140/140 [==============================] - 682s 5s/step - loss: 1.0956 - accuracy: 0.5743 - val_loss: 1.1941 - val_accuracy: 0.5321\n",
      "Epoch 28/48\n",
      "140/140 [==============================] - 668s 5s/step - loss: 1.0827 - accuracy: 0.5818 - val_loss: 1.2132 - val_accuracy: 0.5346\n",
      "Epoch 29/48\n",
      "140/140 [==============================] - 666s 5s/step - loss: 1.0638 - accuracy: 0.5882 - val_loss: 1.2039 - val_accuracy: 0.5377\n",
      "Epoch 30/48\n",
      "140/140 [==============================] - 667s 5s/step - loss: 1.0475 - accuracy: 0.5974 - val_loss: 1.2531 - val_accuracy: 0.5173\n",
      "Epoch 31/48\n",
      "140/140 [==============================] - 670s 5s/step - loss: 1.0323 - accuracy: 0.5995 - val_loss: 1.1971 - val_accuracy: 0.5459\n",
      "Epoch 32/48\n",
      "140/140 [==============================] - 674s 5s/step - loss: 1.0208 - accuracy: 0.6095 - val_loss: 1.2375 - val_accuracy: 0.5309\n",
      "Epoch 33/48\n",
      "140/140 [==============================] - 663s 5s/step - loss: 1.0008 - accuracy: 0.6131 - val_loss: 1.1824 - val_accuracy: 0.5518\n",
      "Epoch 34/48\n",
      "140/140 [==============================] - 666s 5s/step - loss: 0.9887 - accuracy: 0.6224 - val_loss: 1.1704 - val_accuracy: 0.5557\n",
      "Epoch 35/48\n",
      "140/140 [==============================] - 668s 5s/step - loss: 0.9720 - accuracy: 0.6225 - val_loss: 1.1544 - val_accuracy: 0.5637\n",
      "Epoch 36/48\n",
      "140/140 [==============================] - 671s 5s/step - loss: 0.9534 - accuracy: 0.6318 - val_loss: 1.2192 - val_accuracy: 0.5329\n",
      "Epoch 37/48\n",
      "140/140 [==============================] - 667s 5s/step - loss: 0.9514 - accuracy: 0.6344 - val_loss: 1.1582 - val_accuracy: 0.5567\n",
      "Epoch 38/48\n",
      "140/140 [==============================] - 666s 5s/step - loss: 0.9289 - accuracy: 0.6429 - val_loss: 1.1757 - val_accuracy: 0.5611\n",
      "Epoch 39/48\n",
      "140/140 [==============================] - 1713s 12s/step - loss: 0.9151 - accuracy: 0.6493 - val_loss: 1.1963 - val_accuracy: 0.5511\n",
      "Epoch 40/48\n",
      "140/140 [==============================] - 832s 6s/step - loss: 0.8959 - accuracy: 0.6554 - val_loss: 1.2369 - val_accuracy: 0.5489\n",
      "Epoch 41/48\n",
      "140/140 [==============================] - 845s 6s/step - loss: 0.8846 - accuracy: 0.6595 - val_loss: 1.1974 - val_accuracy: 0.5545\n",
      "Epoch 42/48\n",
      "140/140 [==============================] - 768s 5s/step - loss: 0.8636 - accuracy: 0.6693 - val_loss: 1.1889 - val_accuracy: 0.5600\n",
      "Epoch 43/48\n",
      "140/140 [==============================] - 826s 6s/step - loss: 0.8472 - accuracy: 0.6779 - val_loss: 1.1887 - val_accuracy: 0.5586\n",
      "Epoch 44/48\n",
      "140/140 [==============================] - 696s 5s/step - loss: 0.8361 - accuracy: 0.6811 - val_loss: 1.1660 - val_accuracy: 0.5730\n",
      "Epoch 45/48\n",
      "140/140 [==============================] - 722s 5s/step - loss: 0.8261 - accuracy: 0.6801 - val_loss: 1.1861 - val_accuracy: 0.5652\n",
      "Epoch 46/48\n",
      "140/140 [==============================] - 688s 5s/step - loss: 0.8078 - accuracy: 0.6945 - val_loss: 1.1739 - val_accuracy: 0.5724\n",
      "Epoch 47/48\n",
      "140/140 [==============================] - 733s 5s/step - loss: 0.7861 - accuracy: 0.7016 - val_loss: 1.2184 - val_accuracy: 0.5545\n",
      "Epoch 48/48\n",
      "140/140 [==============================] - 668s 5s/step - loss: 0.7765 - accuracy: 0.7089 - val_loss: 1.1718 - val_accuracy: 0.5737\n"
     ]
    }
   ],
   "source": [
    "training = model.fit_generator(train_images,\n",
    "                             steps_per_epoch = train_images.n//train_images.batch_size,\n",
    "                             epochs=epochs,\n",
    "                             validation_data = test_images,\n",
    "                             validation_steps = test_images.n//test_images.batch_size,\n",
    "                             ) "
   ]
  },
  {
   "cell_type": "code",
   "execution_count": 12,
   "metadata": {},
   "outputs": [
    {
     "ename": "TypeError",
     "evalue": "cannot pickle '_thread.RLock' object",
     "output_type": "error",
     "traceback": [
      "\u001b[1;31m---------------------------------------------------------------------------\u001b[0m",
      "\u001b[1;31mTypeError\u001b[0m                                 Traceback (most recent call last)",
      "\u001b[1;32m<ipython-input-12-36e2be473ba5>\u001b[0m in \u001b[0;36m<module>\u001b[1;34m\u001b[0m\n\u001b[0;32m      1\u001b[0m \u001b[1;32mimport\u001b[0m \u001b[0mpickle\u001b[0m\u001b[1;33m\u001b[0m\u001b[1;33m\u001b[0m\u001b[0m\n\u001b[1;32m----> 2\u001b[1;33m \u001b[0mpickle\u001b[0m\u001b[1;33m.\u001b[0m\u001b[0mdump\u001b[0m\u001b[1;33m(\u001b[0m\u001b[0mmodel\u001b[0m\u001b[1;33m,\u001b[0m\u001b[0mopen\u001b[0m\u001b[1;33m(\u001b[0m\u001b[1;34m'model.pkl'\u001b[0m\u001b[1;33m,\u001b[0m\u001b[1;34m'wb'\u001b[0m\u001b[1;33m)\u001b[0m\u001b[1;33m)\u001b[0m\u001b[1;33m\u001b[0m\u001b[1;33m\u001b[0m\u001b[0m\n\u001b[0m",
      "\u001b[1;31mTypeError\u001b[0m: cannot pickle '_thread.RLock' object"
     ]
    }
   ],
   "source": [
    "import pickle\n",
    "pickle.dump(model,open('model.pkl','wb'))"
   ]
  },
  {
   "cell_type": "code",
   "execution_count": 13,
   "metadata": {},
   "outputs": [
    {
     "name": "stdout",
     "output_type": "stream",
     "text": [
      "WARNING:tensorflow:From E:\\anaconda\\envs\\tensorflow\\lib\\site-packages\\tensorflow\\python\\training\\tracking\\tracking.py:111: Model.state_updates (from tensorflow.python.keras.engine.training) is deprecated and will be removed in a future version.\n",
      "Instructions for updating:\n",
      "This property should not be used in TensorFlow 2.0, as updates are applied automatically.\n",
      "WARNING:tensorflow:From E:\\anaconda\\envs\\tensorflow\\lib\\site-packages\\tensorflow\\python\\training\\tracking\\tracking.py:111: Layer.updates (from tensorflow.python.keras.engine.base_layer) is deprecated and will be removed in a future version.\n",
      "Instructions for updating:\n",
      "This property should not be used in TensorFlow 2.0, as updates are applied automatically.\n",
      "INFO:tensorflow:Assets written to: myModel\\assets\n"
     ]
    }
   ],
   "source": [
    "model.save(\"myModel\")"
   ]
  },
  {
   "cell_type": "code",
   "execution_count": 14,
   "metadata": {},
   "outputs": [],
   "source": [
    "my_model = keras.models.load_model(\"myModel\")"
   ]
  },
  {
   "cell_type": "code",
   "execution_count": 27,
   "metadata": {},
   "outputs": [
    {
     "name": "stdout",
     "output_type": "stream",
     "text": [
      "47/47 [==============================] - 34s 729ms/step - loss: 1.1589 - accuracy: 0.5794\n"
     ]
    },
    {
     "data": {
      "text/plain": [
       "[1.158909559249878, 0.5794205665588379]"
      ]
     },
     "execution_count": 27,
     "metadata": {},
     "output_type": "execute_result"
    }
   ],
   "source": [
    "my_model.evaluate(test_images)"
   ]
  },
  {
   "cell_type": "code",
   "execution_count": 16,
   "metadata": {},
   "outputs": [],
   "source": [
    "imgp = \"abc.jpg\"\n",
    "img_pred = cv2.imread(imgp)\n",
    "img_pred = cv2.cvtColor(img_pred, cv2.COLOR_RGB2GRAY)\n",
    "img_pred = keras.preprocessing.image.img_to_array(img_pred)\n",
    "img_pred = np.expand_dims(img_pred,axis=0)\n",
    "reslt = my_model.predict(img_pred)\n",
    "imgin = image.imread(imgp)"
   ]
  },
  {
   "cell_type": "code",
   "execution_count": 17,
   "metadata": {},
   "outputs": [
    {
     "name": "stdout",
     "output_type": "stream",
     "text": [
      "[0.004775   0.03754085 0.8062912  0.00291786 0.14690578 0.00156928]\n"
     ]
    }
   ],
   "source": [
    "print(*reslt)"
   ]
  },
  {
   "cell_type": "code",
   "execution_count": 18,
   "metadata": {},
   "outputs": [
    {
     "data": {
      "text/plain": [
       "array([[[[193.],\n",
       "         [199.],\n",
       "         [202.],\n",
       "         ...,\n",
       "         [214.],\n",
       "         [217.],\n",
       "         [220.]],\n",
       "\n",
       "        [[194.],\n",
       "         [200.],\n",
       "         [203.],\n",
       "         ...,\n",
       "         [214.],\n",
       "         [217.],\n",
       "         [218.]],\n",
       "\n",
       "        [[193.],\n",
       "         [198.],\n",
       "         [201.],\n",
       "         ...,\n",
       "         [214.],\n",
       "         [216.],\n",
       "         [215.]],\n",
       "\n",
       "        ...,\n",
       "\n",
       "        [[167.],\n",
       "         [172.],\n",
       "         [186.],\n",
       "         ...,\n",
       "         [238.],\n",
       "         [238.],\n",
       "         [236.]],\n",
       "\n",
       "        [[168.],\n",
       "         [172.],\n",
       "         [184.],\n",
       "         ...,\n",
       "         [238.],\n",
       "         [238.],\n",
       "         [237.]],\n",
       "\n",
       "        [[172.],\n",
       "         [173.],\n",
       "         [180.],\n",
       "         ...,\n",
       "         [240.],\n",
       "         [238.],\n",
       "         [239.]]]], dtype=float32)"
      ]
     },
     "execution_count": 18,
     "metadata": {},
     "output_type": "execute_result"
    }
   ],
   "source": [
    "img_pred"
   ]
  },
  {
   "cell_type": "code",
   "execution_count": 20,
   "metadata": {},
   "outputs": [
    {
     "name": "stdout",
     "output_type": "stream",
     "text": [
      "{'loss': [2.0272979736328125, 1.874443769454956, 1.7900059223175049, 1.7089725732803345, 1.6713682413101196, 1.609481930732727, 1.5763574838638306, 1.532414197921753, 1.4983221292495728, 1.459710955619812, 1.4199117422103882, 1.3989863395690918, 1.3642891645431519, 1.3437689542770386, 1.312993049621582, 1.2861847877502441, 1.2712652683258057, 1.248932957649231, 1.2312052249908447, 1.2154312133789062, 1.1988447904586792, 1.184261441230774, 1.1665393114089966, 1.1413782835006714, 1.123570203781128, 1.1126245260238647, 1.0956240892410278, 1.0827293395996094, 1.0637757778167725, 1.0474803447723389, 1.032263159751892, 1.020796775817871, 1.0007688999176025, 0.9886813163757324, 0.9719820022583008, 0.9534345269203186, 0.9514409303665161, 0.928931713104248, 0.9151140451431274, 0.8959322571754456, 0.8846033215522766, 0.8636353015899658, 0.8472198843955994, 0.8361049294471741, 0.8260607719421387, 0.8078411817550659, 0.7860783338546753, 0.7764549851417542], 'accuracy': [0.2132229506969452, 0.24840585887432098, 0.27961739897727966, 0.3135138154029846, 0.33678263425827026, 0.35781407356262207, 0.3724689483642578, 0.38723570108413696, 0.3990938663482666, 0.4211321175098419, 0.4372413158416748, 0.4502740800380707, 0.46218815445899963, 0.4723682701587677, 0.4829399287700653, 0.49664393067359924, 0.501789927482605, 0.5128090381622314, 0.5194652676582336, 0.5255061984062195, 0.5354066491127014, 0.5384271144866943, 0.5437409281730652, 0.5551515817642212, 0.5643248558044434, 0.568799614906311, 0.5742812156677246, 0.58177649974823, 0.588153064250946, 0.5973822474479675, 0.5994518399238586, 0.609464168548584, 0.6130998730659485, 0.6224409937858582, 0.6224969029426575, 0.6318380236625671, 0.6343550682067871, 0.6428571343421936, 0.649289608001709, 0.6554424166679382, 0.6595256924629211, 0.6692582964897156, 0.6779282093048096, 0.6810604929924011, 0.6801096200942993, 0.694540798664093, 0.7015885710716248, 0.7088600397109985], 'val_loss': [1.7762820720672607, 1.6825813055038452, 1.6588718891143799, 1.673477053642273, 1.636008381843567, 1.6485811471939087, 1.6614588499069214, 1.5030932426452637, 1.470690131187439, 1.4267128705978394, 1.4336529970169067, 1.390989065170288, 1.3923780918121338, 1.3592770099639893, 1.3678998947143555, 1.3243458271026611, 1.3138515949249268, 1.3527705669403076, 1.272489309310913, 1.2920925617218018, 1.2674709558486938, 1.2864809036254883, 1.225993275642395, 1.2500766515731812, 1.2307658195495605, 1.2062443494796753, 1.1941145658493042, 1.2132048606872559, 1.2039148807525635, 1.253118872642517, 1.1971396207809448, 1.2374651432037354, 1.1823838949203491, 1.1704351902008057, 1.15444815158844, 1.21916663646698, 1.1581815481185913, 1.175705909729004, 1.1963348388671875, 1.236901044845581, 1.1973952054977417, 1.188941478729248, 1.1887198686599731, 1.166045069694519, 1.1860789060592651, 1.1739474534988403, 1.2184478044509888, 1.1718178987503052], 'val_accuracy': [0.23148776590824127, 0.29738450050354004, 0.3031589686870575, 0.3187839686870575, 0.33814537525177, 0.33984375, 0.3322010934352875, 0.39113450050354004, 0.40523096919059753, 0.428838312625885, 0.42578125, 0.44361412525177, 0.45210596919059753, 0.46365490555763245, 0.46773096919059753, 0.4765625, 0.47860053181648254, 0.46603259444236755, 0.49439537525177, 0.48777174949645996, 0.5071331262588501, 0.5006793737411499, 0.51732337474823, 0.51002037525177, 0.519870936870575, 0.53125, 0.532099187374115, 0.53464674949646, 0.537703812122345, 0.51732337474823, 0.5458559989929199, 0.530910313129425, 0.5518002510070801, 0.5557065010070801, 0.5636888742446899, 0.53294837474823, 0.5567255616188049, 0.561141312122345, 0.551120936870575, 0.5489130616188049, 0.5545176863670349, 0.559952437877655, 0.55859375, 0.5730298757553101, 0.5652173757553101, 0.5723505616188049, 0.5545176863670349, 0.57370924949646]}\n"
     ]
    },
    {
     "data": {
      "image/png": "[encoded data removed]",
      "text/plain": [
       "<Figure size 432x288 with 1 Axes>"
      ]
     },
     "metadata": {
      "needs_background": "light"
     },
     "output_type": "display_data"
    },
    {
     "data": {
      "image/png": "[encoded data removed]",
      "text/plain": [
       "<Figure size 432x288 with 1 Axes>"
      ]
     },
     "metadata": {
      "needs_background": "light"
     },
     "output_type": "display_data"
    }
   ],
   "source": [
    "%matplotlib inline\n",
    "print(training.history)\n",
    "plt.plot(training.history['accuracy'])\n",
    "plt.plot(training.history['val_accuracy'])\n",
    "plt.title('model Accuracy')\n",
    "plt.ylabel('accuracy')\n",
    "plt.xlabel('epochs')\n",
    "plt.legend(['train', 'test'], loc='upper left')\n",
    "plt.show()\n",
    "\n",
    "plt.plot(training.history['loss'])\n",
    "plt.plot(training.history['val_loss'])\n",
    "plt.title('model loss')\n",
    "plt.ylabel('loss')\n",
    "plt.xlabel('epochs')\n",
    "plt.legend(['train', 'test'], loc='upper left')\n",
    "plt.show()\n"
   ]
  },
  {
   "cell_type": "code",
   "execution_count": null,
   "metadata": {},
   "outputs": [],
   "source": []
  }
 ],
 "metadata": {
  "kernelspec": {
   "display_name": "Python 3",
   "language": "python",
   "name": "python3"
  },
  "language_info": {
   "codemirror_mode": {
    "name": "ipython",
    "version": 3
   },
   "file_extension": ".py",
   "mimetype": "text/x-python",
   "name": "python",
   "nbconvert_exporter": "python",
   "pygments_lexer": "ipython3",
   "version": "3.8.5"
  }
 },
 "nbformat": 4,
 "nbformat_minor": 5
}
